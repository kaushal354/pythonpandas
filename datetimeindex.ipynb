{
 "cells": [
  {
   "cell_type": "code",
   "execution_count": 39,
   "id": "baa3de7a-157f-49f3-a582-d7c786faa8ba",
   "metadata": {},
   "outputs": [],
   "source": [
    "#datatimeindex"
   ]
  },
  {
   "cell_type": "code",
   "execution_count": 40,
   "id": "4523978d-23e8-4bf1-912f-f9ae480df996",
   "metadata": {},
   "outputs": [],
   "source": [
    "import pandas as pd"
   ]
  },
  {
   "cell_type": "code",
   "execution_count": 44,
   "id": "5e3e9f2c-4877-4e5b-8329-6a510e355e44",
   "metadata": {},
   "outputs": [
    {
     "data": {
      "text/html": [
       "<div>\n",
       "<style scoped>\n",
       "    .dataframe tbody tr th:only-of-type {\n",
       "        vertical-align: middle;\n",
       "    }\n",
       "\n",
       "    .dataframe tbody tr th {\n",
       "        vertical-align: top;\n",
       "    }\n",
       "\n",
       "    .dataframe thead th {\n",
       "        text-align: right;\n",
       "    }\n",
       "</style>\n",
       "<table border=\"1\" class=\"dataframe\">\n",
       "  <thead>\n",
       "    <tr style=\"text-align: right;\">\n",
       "      <th></th>\n",
       "      <th>Date</th>\n",
       "      <th>R&amp;D Spend</th>\n",
       "      <th>Marketing Spend</th>\n",
       "      <th>Profit</th>\n",
       "    </tr>\n",
       "  </thead>\n",
       "  <tbody>\n",
       "    <tr>\n",
       "      <th>0</th>\n",
       "      <td>2019-01-07</td>\n",
       "      <td>165349</td>\n",
       "      <td>136897</td>\n",
       "      <td>192261</td>\n",
       "    </tr>\n",
       "    <tr>\n",
       "      <th>1</th>\n",
       "      <td>2019-02-07</td>\n",
       "      <td>133848</td>\n",
       "      <td>151377</td>\n",
       "      <td>191792</td>\n",
       "    </tr>\n",
       "    <tr>\n",
       "      <th>2</th>\n",
       "      <td>2019-03-07</td>\n",
       "      <td>153441</td>\n",
       "      <td>327468</td>\n",
       "      <td>191050</td>\n",
       "    </tr>\n",
       "    <tr>\n",
       "      <th>3</th>\n",
       "      <td>2019-04-07</td>\n",
       "      <td>144372</td>\n",
       "      <td>63338</td>\n",
       "      <td>182901</td>\n",
       "    </tr>\n",
       "    <tr>\n",
       "      <th>4</th>\n",
       "      <td>2019-05-07</td>\n",
       "      <td>142107</td>\n",
       "      <td>91391</td>\n",
       "      <td>166187</td>\n",
       "    </tr>\n",
       "    <tr>\n",
       "      <th>5</th>\n",
       "      <td>2019-08-07</td>\n",
       "      <td>131876</td>\n",
       "      <td>99814</td>\n",
       "      <td>156991</td>\n",
       "    </tr>\n",
       "    <tr>\n",
       "      <th>6</th>\n",
       "      <td>2019-09-07</td>\n",
       "      <td>134615</td>\n",
       "      <td>147198</td>\n",
       "      <td>156122</td>\n",
       "    </tr>\n",
       "    <tr>\n",
       "      <th>7</th>\n",
       "      <td>2019-10-07</td>\n",
       "      <td>130298</td>\n",
       "      <td>145530</td>\n",
       "      <td>155752</td>\n",
       "    </tr>\n",
       "    <tr>\n",
       "      <th>8</th>\n",
       "      <td>2019-11-07</td>\n",
       "      <td>120542</td>\n",
       "      <td>148718</td>\n",
       "      <td>152211</td>\n",
       "    </tr>\n",
       "    <tr>\n",
       "      <th>9</th>\n",
       "      <td>2019-12-07</td>\n",
       "      <td>123334</td>\n",
       "      <td>108679</td>\n",
       "      <td>149759</td>\n",
       "    </tr>\n",
       "  </tbody>\n",
       "</table>\n",
       "</div>"
      ],
      "text/plain": [
       "        Date  R&D Spend  Marketing Spend  Profit\n",
       "0 2019-01-07     165349           136897  192261\n",
       "1 2019-02-07     133848           151377  191792\n",
       "2 2019-03-07     153441           327468  191050\n",
       "3 2019-04-07     144372            63338  182901\n",
       "4 2019-05-07     142107            91391  166187\n",
       "5 2019-08-07     131876            99814  156991\n",
       "6 2019-09-07     134615           147198  156122\n",
       "7 2019-10-07     130298           145530  155752\n",
       "8 2019-11-07     120542           148718  152211\n",
       "9 2019-12-07     123334           108679  149759"
      ]
     },
     "execution_count": 44,
     "metadata": {},
     "output_type": "execute_result"
    }
   ],
   "source": [
    "df = pd.read_csv('C:\\\\Users\\\\kaushal prasad\\\\Downloads\\\\dataset\\\\VC_Startups_1.csv', parse_dates = ['Date'])\n",
    "df"
   ]
  },
  {
   "cell_type": "code",
   "execution_count": 45,
   "id": "50195131-9934-4772-943f-9047d12bb796",
   "metadata": {},
   "outputs": [
    {
     "data": {
      "text/plain": [
       "Date               datetime64[ns]\n",
       "R&D Spend                   int64\n",
       "Marketing Spend             int64\n",
       "Profit                      int64\n",
       "dtype: object"
      ]
     },
     "execution_count": 45,
     "metadata": {},
     "output_type": "execute_result"
    }
   ],
   "source": [
    "df.dtypes"
   ]
  },
  {
   "cell_type": "code",
   "execution_count": 46,
   "id": "ee9de981-99f9-4387-ac83-3df7a15ea542",
   "metadata": {},
   "outputs": [
    {
     "data": {
      "text/plain": [
       "pandas._libs.tslibs.timestamps.Timestamp"
      ]
     },
     "execution_count": 46,
     "metadata": {},
     "output_type": "execute_result"
    }
   ],
   "source": [
    "type(df.Date[0])"
   ]
  },
  {
   "cell_type": "code",
   "execution_count": null,
   "id": "142dbf7b-0d19-43f6-b890-fe25a73d5864",
   "metadata": {},
   "outputs": [],
   "source": []
  }
 ],
 "metadata": {
  "kernelspec": {
   "display_name": "Python 3 (ipykernel)",
   "language": "python",
   "name": "python3"
  },
  "language_info": {
   "codemirror_mode": {
    "name": "ipython",
    "version": 3
   },
   "file_extension": ".py",
   "mimetype": "text/x-python",
   "name": "python",
   "nbconvert_exporter": "python",
   "pygments_lexer": "ipython3",
   "version": "3.12.4"
  }
 },
 "nbformat": 4,
 "nbformat_minor": 5
}
